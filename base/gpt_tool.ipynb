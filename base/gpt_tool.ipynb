{
 "cells": [
  {
   "cell_type": "code",
   "execution_count": 4,
   "id": "5dbf6806-4450-4098-a1d6-b49c15b7ca8f",
   "metadata": {},
   "outputs": [
    {
     "name": "stdout",
     "output_type": "stream",
     "text": [
      "Prompt消耗 13 Token\n"
     ]
    }
   ],
   "source": [
    "# tiktoken\n",
    "import tiktoken\n",
    "encoding = tiktoken.get_encoding(\"cl100k_base\")\n",
    "prompt = \"土豆焖肉怎么做？\"\n",
    "\n",
    "prompt_count = len(encoding.encode(prompt)) # 13\n",
    "print(len(encoding.encode(prompt)))   # [74090, 44510, 228, 32016, 244, 57942, 231, 17486, 236, 82696, 49691, 248, 11571]\n",
    "total_count = prompt_count\n",
    "print(\"Prompt消耗 %d Token\" % (prompt_count))\n"
   ]
  },
  {
   "cell_type": "code",
   "execution_count": null,
   "id": "fec20161-c4b0-43e4-a237-3ef2cab3432a",
   "metadata": {},
   "outputs": [],
   "source": []
  }
 ],
 "metadata": {
  "kernelspec": {
   "display_name": "Python 3 (ipykernel)",
   "language": "python",
   "name": "python3"
  },
  "language_info": {
   "codemirror_mode": {
    "name": "ipython",
    "version": 3
   },
   "file_extension": ".py",
   "mimetype": "text/x-python",
   "name": "python",
   "nbconvert_exporter": "python",
   "pygments_lexer": "ipython3",
   "version": "3.10.12"
  }
 },
 "nbformat": 4,
 "nbformat_minor": 5
}
