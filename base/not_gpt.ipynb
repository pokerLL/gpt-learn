{
 "cells": [
  {
   "cell_type": "code",
   "execution_count": 2,
   "id": "14c25e04-5629-4450-a96f-a545844c398f",
   "metadata": {},
   "outputs": [
    {
     "name": "stdout",
     "output_type": "stream",
     "text": [
      "Fasttext好评例子的评分 : -0.000544\n",
      "Fasttext差评例子的评分 : 0.000369\n"
     ]
    }
   ],
   "source": [
    "## fasttest\n",
    "\n",
    "import gensim\n",
    "import numpy as np\n",
    "# Load the FastText pre-trained model\n",
    "model = gensim.models.fasttext.load_facebook_model('cc.en.300.bin')\n",
    "\n",
    "def get_fasttext_vector(line):\n",
    "    vec = np.zeros(300) # Initialize an empty 300-dimensional vector\n",
    "    for word in line.split():\n",
    "        vec += model.wv[word]\n",
    "    vec /= len(line.split()) # Take the average over all words in the line\n",
    "    return vec\n",
    "\n",
    "positive_text = \"\"\"Wanted to save some to bring to my Chicago family but my North Carolina family ate all 4 boxes before I could pack. These are excellent...could serve to anyone\"\"\"\n",
    "negative_text = \"\"\"First, these should be called Mac - Coconut bars, as Coconut is the #2 ingredient and Mango is #3.  Second, lots of people don't like coconut.  I happen to be allergic to it.  Word to Amazon that if you want happy customers to make things like this more prominent.  Thanks.\"\"\"\n",
    "\n",
    "positive_example_in_fasttext = get_fasttext_vector(positive_text)\n",
    "negative_example_in_fasttext = get_fasttext_vector(negative_text)\n",
    "\n",
    "positive_review_in_fasttext = get_fasttext_vector(\"An Amazon review with a positive sentiment.\")\n",
    "negative_review_in_fasttext = get_fasttext_vector('An Amazon review with a negative sentiment.')\n",
    "\n",
    "from openai.embeddings_utils import cosine_similarity\n",
    "\n",
    "def get_fasttext_score(sample_embedding):\n",
    "  return cosine_similarity(sample_embedding, positive_review_in_fasttext) - cosine_similarity(sample_embedding, negative_review_in_fasttext)\n",
    "\n",
    "positive_score = get_fasttext_score(positive_example_in_fasttext)\n",
    "negative_score = get_fasttext_score(negative_example_in_fasttext)\n",
    "\n",
    "print(\"Fasttext好评例子的评分 : %f\" % (positive_score))\n",
    "print(\"Fasttext差评例子的评分 : %f\" % (negative_score))"
   ]
  },
  {
   "cell_type": "code",
   "execution_count": 3,
   "id": "99dd2dfd-efcc-47c3-8718-842d13b47b36",
   "metadata": {},
   "outputs": [
    {
     "name": "stderr",
     "output_type": "stream",
     "text": [
      "You are using the legacy behaviour of the <class 'transformers.models.t5.tokenization_t5.T5Tokenizer'>. This means that tokens that come after special tokens will not be properly handled. We recommend you to read the related pull request available at https://github.com/huggingface/transformers/pull/24565\n"
     ]
    },
    {
     "data": {
      "application/vnd.jupyter.widget-view+json": {
       "model_id": "1103b2d38796486daeb7bda84d9ed4cd",
       "version_major": 2,
       "version_minor": 0
      },
      "text/plain": [
       "Downloading model.safetensors:   0%|          | 0.00/242M [00:00<?, ?B/s]"
      ]
     },
     "metadata": {},
     "output_type": "display_data"
    },
    {
     "name": "stdout",
     "output_type": "stream",
     "text": [
      "T5好评例子的评分 : -0.010294\n",
      "T5差评例子的评分 : -0.008990\n"
     ]
    }
   ],
   "source": [
    "## t5\n",
    "from transformers import T5Tokenizer, T5Model\n",
    "import torch\n",
    "\n",
    "# load the T5 tokenizer and model\n",
    "tokenizer = T5Tokenizer.from_pretrained('t5-small', model_max_length=512)\n",
    "model = T5Model.from_pretrained('t5-small')\n",
    "\n",
    "# set the model to evaluation mode\n",
    "model.eval()\n",
    "\n",
    "# encode the input sentence\n",
    "def get_t5_vector(line):\n",
    "    input_ids = tokenizer.encode(line, return_tensors='pt', max_length=512, truncation=True)\n",
    "    # generate the vector representation\n",
    "    with torch.no_grad():\n",
    "        outputs = model.encoder(input_ids=input_ids)\n",
    "        vector = outputs.last_hidden_state.mean(dim=1)\n",
    "    return vector[0]\n",
    "\n",
    "positive_review_in_t5 = get_t5_vector(\"An Amazon review with a positive sentiment.\")\n",
    "negative_review_in_t5 = get_t5_vector('An Amazon review with a negative sentiment.')\n",
    "\n",
    "def test_t5():\n",
    "  positive_example_in_t5 = get_t5_vector(positive_text)\n",
    "  negative_example_in_t5 = get_t5_vector(negative_text)\n",
    "\n",
    "  def get_t5_score(sample_embedding):\n",
    "    return cosine_similarity(sample_embedding, positive_review_in_t5) - cosine_similarity(sample_embedding, negative_review_in_t5)\n",
    "\n",
    "  positive_score = get_t5_score(positive_example_in_t5)\n",
    "  negative_score = get_t5_score(negative_example_in_t5)\n",
    "\n",
    "  print(\"T5好评例子的评分 : %f\" % (positive_score))\n",
    "  print(\"T5差评例子的评分 : %f\" % (negative_score))\n",
    "\n",
    "test_t5()"
   ]
  },
  {
   "cell_type": "code",
   "execution_count": 4,
   "id": "0988c771-762b-46e2-a4ab-da0eb819c7da",
   "metadata": {},
   "outputs": [
    {
     "data": {
      "application/vnd.jupyter.widget-view+json": {
       "model_id": "926e813322904616b62d91ece0f53707",
       "version_major": 2,
       "version_minor": 0
      },
      "text/plain": [
       "Downloading (…)ve/main/spiece.model:   0%|          | 0.00/792k [00:00<?, ?B/s]"
      ]
     },
     "metadata": {},
     "output_type": "display_data"
    },
    {
     "data": {
      "application/vnd.jupyter.widget-view+json": {
       "model_id": "08ad24e6549f49d683580ac098ae2257",
       "version_major": 2,
       "version_minor": 0
      },
      "text/plain": [
       "Downloading (…)lve/main/config.json:   0%|          | 0.00/1.21k [00:00<?, ?B/s]"
      ]
     },
     "metadata": {},
     "output_type": "display_data"
    },
    {
     "data": {
      "application/vnd.jupyter.widget-view+json": {
       "model_id": "291812ffe31749d2be74ef47065bc127",
       "version_major": 2,
       "version_minor": 0
      },
      "text/plain": [
       "Downloading model.safetensors:   0%|          | 0.00/892M [00:00<?, ?B/s]"
      ]
     },
     "metadata": {},
     "output_type": "display_data"
    },
    {
     "name": "stdout",
     "output_type": "stream",
     "text": [
      "T5好评例子的评分 : 0.010347\n",
      "T5差评例子的评分 : -0.023935\n"
     ]
    }
   ],
   "source": [
    "## t5 \n",
    "tokenizer = T5Tokenizer.from_pretrained('t5-base', model_max_length=512)\n",
    "model = T5Model.from_pretrained('t5-base')\n",
    "\n",
    "# set the model to evaluation mode\n",
    "model.eval()\n",
    "\n",
    "# encode the input sentence\n",
    "def get_t5_vector(line):\n",
    "    input_ids = tokenizer.encode(line, return_tensors='pt', max_length=512, truncation=True)\n",
    "    # generate the vector representation\n",
    "    with torch.no_grad():\n",
    "        outputs = model.encoder(input_ids=input_ids)\n",
    "        vector = outputs.last_hidden_state.mean(dim=1)\n",
    "    return vector[0]\n",
    "\n",
    "positive_review_in_t5 = get_t5_vector(\"An Amazon review with a positive sentiment.\")\n",
    "negative_review_in_t5 = get_t5_vector('An Amazon review with a negative sentiment.')\n",
    "\n",
    "test_t5()"
   ]
  },
  {
   "cell_type": "code",
   "execution_count": 7,
   "id": "d2342546-b647-4e69-bd40-64028309fc7c",
   "metadata": {},
   "outputs": [
    {
     "name": "stdout",
     "output_type": "stream",
     "text": [
      "              precision    recall  f1-score   support\n",
      "\n",
      "    negative       0.60      0.90      0.72       136\n",
      "    positive       0.98      0.90      0.94       789\n",
      "\n",
      "    accuracy                           0.90       925\n",
      "   macro avg       0.79      0.90      0.83       925\n",
      "weighted avg       0.93      0.90      0.91       925\n",
      "\n"
     ]
    },
    {
     "data": {
      "image/png": "[encoded data removed]",
      "text/plain": [
       "<Figure size 640x480 with 1 Axes>"
      ]
     },
     "metadata": {},
     "output_type": "display_data"
    }
   ],
   "source": [
    "import pandas as pd\n",
    "from sklearn.metrics import classification_report\n",
    "\n",
    "datafile_path = \"data/fine_food_reviews_with_embeddings_1k.csv\"\n",
    "\n",
    "df = pd.read_csv(datafile_path)\n",
    "\n",
    "df[\"t5_embedding\"] = df.Text.apply(get_t5_vector)\n",
    "# convert 5-star rating to binary sentiment\n",
    "df = df[df.Score != 3]\n",
    "df[\"sentiment\"] = df.Score.replace({1: \"negative\", 2: \"negative\", 4: \"positive\", 5: \"positive\"})\n",
    "\n",
    "from sklearn.metrics import PrecisionRecallDisplay\n",
    "def evaluate_embeddings_approach():\n",
    "    def label_score(review_embedding):\n",
    "        return cosine_similarity(review_embedding, positive_review_in_t5) - cosine_similarity(review_embedding, negative_review_in_t5)\n",
    "\n",
    "    probas = df[\"t5_embedding\"].apply(lambda x: label_score(x))\n",
    "    preds = probas.apply(lambda x: 'positive' if x>0 else 'negative')\n",
    "\n",
    "    report = classification_report(df.sentiment, preds)\n",
    "    print(report)\n",
    "\n",
    "    display = PrecisionRecallDisplay.from_predictions(df.sentiment, probas, pos_label='positive')\n",
    "    _ = display.ax_.set_title(\"2-class Precision-Recall curve\")\n",
    "\n",
    "evaluate_embeddings_approach()"
   ]
  },
  {
   "cell_type": "code",
   "execution_count": null,
   "id": "250ae05f-948a-450f-8196-e7e95d117577",
   "metadata": {},
   "outputs": [],
   "source": [
    "from sklearn.ensemble import RandomForestClassifier\n",
    "from sklearn.model_selection import train_test_split\n",
    "from sklearn.metrics import classification_report, accuracy_score\n",
    "\n",
    "training_data = pd.read_parquet(\"data/toutiao_cat_data_all_with_embeddings.parquet\")\n",
    "training_data.head()\n",
    "\n",
    "df =  training_data.sample(50000, random_state=42)\n",
    "\n",
    "X_train, X_test, y_train, y_test = train_test_split(\n",
    "    list(df.embedding.values), df.category, test_size=0.2, random_state=42\n",
    ")\n",
    "\n",
    "clf = RandomForestClassifier(n_estimators=300)\n",
    "clf.fit(X_train, y_train)\n",
    "preds = clf.predict(X_test)\n",
    "probas = clf.predict_proba(X_test)\n",
    "\n",
    "report = classification_report(y_test, preds)\n",
    "print(report)"
   ]
  }
 ],
 "metadata": {
  "kernelspec": {
   "display_name": "Python 3 (ipykernel)",
   "language": "python",
   "name": "python3"
  },
  "language_info": {
   "codemirror_mode": {
    "name": "ipython",
    "version": 3
   },
   "file_extension": ".py",
   "mimetype": "text/x-python",
   "name": "python",
   "nbconvert_exporter": "python",
   "pygments_lexer": "ipython3",
   "version": "3.10.12"
  }
 },
 "nbformat": 4,
 "nbformat_minor": 5
}
